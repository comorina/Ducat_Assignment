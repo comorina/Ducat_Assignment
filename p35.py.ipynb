{
 "cells": [
  {
   "cell_type": "code",
   "execution_count": 33,
   "id": "upset-penetration",
   "metadata": {},
   "outputs": [
    {
     "name": "stdout",
     "output_type": "stream",
     "text": [
      "2 6 3\n",
      "1\n",
      " 2\n",
      "NO\n"
     ]
    }
   ],
   "source": [
    "n,h,x= map(int,input().strip().split())\n",
    "t=[]\n",
    "for i in range(n):\n",
    "    t.append(int(input()))\n",
    "for i in range(n):\n",
    "    if((t[i]+x >= h) or (t[i+1]+x>=h)):\n",
    "        print('YES')\n",
    "        break\n",
    "    else:\n",
    "        print('NO')\n",
    "        break\n",
    "        "
   ]
  },
  {
   "cell_type": "code",
   "execution_count": 37,
   "id": "damaged-syndicate",
   "metadata": {},
   "outputs": [
    {
     "ename": "SyntaxError",
     "evalue": "invalid syntax (<ipython-input-37-49fff2c3ea51>, line 3)",
     "output_type": "error",
     "traceback": [
      "\u001b[1;36m  File \u001b[1;32m\"<ipython-input-37-49fff2c3ea51>\"\u001b[1;36m, line \u001b[1;32m3\u001b[0m\n\u001b[1;33m    n=f[0]\u001b[0m\n\u001b[1;37m    ^\u001b[0m\n\u001b[1;31mSyntaxError\u001b[0m\u001b[1;31m:\u001b[0m invalid syntax\n"
     ]
    }
   ],
   "source": [
    "f=list(map(int,input().split(\" \")))\n",
    "TZ=list(map(int,input().split(\" \"))\n",
    "n=f[0]\n",
    "h=f[1]\n",
    "x=f[2]\n",
    "for i in tz:\n",
    "    if((i+x>=h)):\n",
    "        print('YES')\n",
    "    else:\n",
    "        print('NO')"
   ]
  },
  {
   "cell_type": "code",
   "execution_count": 69,
   "id": "fitting-castle",
   "metadata": {},
   "outputs": [
    {
     "name": "stdout",
     "output_type": "stream",
     "text": [
      "shiAvAA\n"
     ]
    }
   ],
   "source": [
    "x=list('shiavam')\n",
    "str=\"\"\n",
    "for i in x:\n",
    "    if(i=='a' or i=='m'):\n",
    "        temp = i\n",
    "        i='A'\n",
    "        \n",
    "    str+=i\n",
    "print(str)"
   ]
  },
  {
   "cell_type": "code",
   "execution_count": 77,
   "id": "fatty-addiction",
   "metadata": {},
   "outputs": [
    {
     "name": "stdout",
     "output_type": "stream",
     "text": [
      "321"
     ]
    }
   ],
   "source": [
    "s=123\n",
    "for i in range(3):\n",
    "    rem=s%10\n",
    "    s=s//10\n",
    "    print(rem,end=\"\")\n"
   ]
  },
  {
   "cell_type": "code",
   "execution_count": 78,
   "id": "wanted-square",
   "metadata": {},
   "outputs": [
    {
     "name": "stdout",
     "output_type": "stream",
     "text": [
      "shivAm\n"
     ]
    }
   ],
   "source": [
    "x='shivam'\n",
    "str=\"\"\n",
    "for i in x:\n",
    "    if(i=='a'):\n",
    "        temp =i\n",
    "        i='A'\n",
    "    str+=i\n",
    "print(str)"
   ]
  },
  {
   "cell_type": "code",
   "execution_count": 4,
   "id": "caroline-boston",
   "metadata": {},
   "outputs": [
    {
     "name": "stdout",
     "output_type": "stream",
     "text": [
      "1\n",
      "01011011101101\n",
      "5\n"
     ]
    }
   ],
   "source": [
    "def g():\n",
    "    x=input()\n",
    "    c=0\n",
    "    if(x[0]=='1'):\n",
    "        c+=1\n",
    "    for i in range(1,len(x)):\n",
    "        if(x[i]=='1' and x[i-1]!='1'):\n",
    "            c+=1\n",
    "    print(c)\n",
    "for i in range(int(input())):\n",
    "    g()"
   ]
  },
  {
   "cell_type": "code",
   "execution_count": null,
   "id": "living-insurance",
   "metadata": {},
   "outputs": [],
   "source": []
  }
 ],
 "metadata": {
  "kernelspec": {
   "display_name": "Python 3",
   "language": "python",
   "name": "python3"
  },
  "language_info": {
   "codemirror_mode": {
    "name": "ipython",
    "version": 3
   },
   "file_extension": ".py",
   "mimetype": "text/x-python",
   "name": "python",
   "nbconvert_exporter": "python",
   "pygments_lexer": "ipython3",
   "version": "3.9.2"
  }
 },
 "nbformat": 4,
 "nbformat_minor": 5
}
